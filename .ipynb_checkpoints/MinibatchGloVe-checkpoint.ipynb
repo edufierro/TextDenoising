{
 "cells": [
  {
   "cell_type": "markdown",
   "metadata": {},
   "source": [
    "# Trials to minibatch GloVe\n",
    "#### Eduardo Fierro \n",
    "#### Based on NLP - Homework 1\n",
    "---"
   ]
  },
  {
   "cell_type": "code",
   "execution_count": 1,
   "metadata": {
    "collapsed": true
   },
   "outputs": [],
   "source": [
    "import numpy as np\n",
    "import os\n",
    "import torch\n",
    "from collections import Counter\n",
    "from sklearn.feature_extraction import stop_words\n",
    "from torch.utils.data import Dataset\n",
    "import torch.nn as nn\n",
    "import torchvision.transforms as transforms\n",
    "from torch.autograd import Variable\n",
    "import matplotlib.pyplot as plt\n",
    "%matplotlib inline"
   ]
  },
  {
   "cell_type": "markdown",
   "metadata": {},
   "source": [
    "## Part I : Data I/O\n",
    "Read data from disk and parse them into desired structures"
   ]
  },
  {
   "cell_type": "code",
   "execution_count": null,
   "metadata": {
    "collapsed": true
   },
   "outputs": [],
   "source": [
    "# I/O Param\n",
    "data_dir = \"./aclImdb/\"\n",
    "TRAIN_SIZE = 23000\n",
    "VALIDATION_SIZE = 2000\n",
    "TEST_SIZE = 25000\n",
    "PADDING_IDX = 0"
   ]
  },
  {
   "cell_type": "code",
   "execution_count": 2,
   "metadata": {
    "collapsed": true
   },
   "outputs": [],
   "source": [
    "class BillsDatum():\n",
    "    \n",
    "    \"\"\"\n",
    "    Class that represents a train/validation/test datum\n",
    "    - self.raw_text\n",
    "    - self.label: 0 neg, 1 pos\n",
    "    - self.file_name: dir for this datum\n",
    "    - self.tokens: list of tokens\n",
    "    - self.token_idx: index of each token in the text\n",
    "    \"\"\"\n",
    "    def __init__(self, raw_text, label, file_name):\n",
    "        self.raw_text = raw_text\n",
    "        self.label = label\n",
    "        self.file_name = file_name\n",
    "        \n",
    "    def set_ngram(self, ngram_ctr):\n",
    "        self.ngram = ngram_ctr\n",
    "    \n",
    "    def set_token_idx(self, token_idx):\n",
    "        self.token_idx = token_idx\n",
    "        \n",
    "    def set_tokens(self, tokens):\n",
    "        self.tokens = tokens\n",
    "        \n",
    "def preprocess_text(text):\n",
    "    \n",
    "    \"\"\"\n",
    "    Function that cleans the string\n",
    "    \"\"\"\n",
    "    \n",
    "    text = text.lower().replace(\"<br />\", \"\")\n",
    "    return text\n",
    "\n",
    "def read_file_as_datum(file_name, label):\n",
    "    \"\"\"\n",
    "    Function that reads a file \n",
    "    \"\"\"\n",
    "    \n",
    "    with open(file_name, \"r\") as f:\n",
    "        content = f.read()\n",
    "        content = preprocess_text(content)\n",
    "    \n",
    "    return IMDBDatum(raw_text=content, label=label, file_name=file_name)\n",
    "\n",
    "def construct_dataset(dataset_dir, dataset_size, offset=0):\n",
    "    \"\"\"\n",
    "    Function that loads a dataset\n",
    "    @param offset: skip first offset items in this dir\n",
    "    \"\"\"\n",
    "    pos_dir = os.path.join(dataset_dir, \"pos\")\n",
    "    neg_dir = os.path.join(dataset_dir, \"neg\")\n",
    "    single_label_size = int(dataset_size / 2)\n",
    "    output = []\n",
    "    all_pos = os.listdir(pos_dir)\n",
    "    all_neg = os.listdir(neg_dir)\n",
    "    for i in range(offset, offset+single_label_size):\n",
    "        output.append(read_file_as_datum(os.path.join(pos_dir, all_pos[i]), 1))\n",
    "        output.append(read_file_as_datum(os.path.join(neg_dir, all_neg[i]), 0))\n",
    "    return output"
   ]
  },
  {
   "cell_type": "code",
   "execution_count": null,
   "metadata": {
    "collapsed": true
   },
   "outputs": [],
   "source": []
  }
 ],
 "metadata": {
  "anaconda-cloud": {},
  "kernelspec": {
   "display_name": "Python [conda root]",
   "language": "python",
   "name": "conda-root-py"
  },
  "language_info": {
   "codemirror_mode": {
    "name": "ipython",
    "version": 3
   },
   "file_extension": ".py",
   "mimetype": "text/x-python",
   "name": "python",
   "nbconvert_exporter": "python",
   "pygments_lexer": "ipython3",
   "version": "3.5.2"
  }
 },
 "nbformat": 4,
 "nbformat_minor": 1
}
